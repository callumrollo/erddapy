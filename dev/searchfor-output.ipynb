{
 "cells": [
  {
   "cell_type": "markdown",
   "metadata": {},
   "source": [
    "# Searching datasets\n",
    "\n",
    "\n",
    "erddapy can wrap the same form-like search capabilities of ERDDAP with the *search_for* keyword."
   ]
  },
  {
   "cell_type": "code",
   "execution_count": 1,
   "metadata": {
    "execution": {
     "iopub.execute_input": "2020-10-05T13:58:47.214474Z",
     "iopub.status.busy": "2020-10-05T13:58:47.213681Z",
     "iopub.status.idle": "2020-10-05T13:58:47.623683Z",
     "shell.execute_reply": "2020-10-05T13:58:47.624055Z"
    }
   },
   "outputs": [],
   "source": [
    "from erddapy import ERDDAP\n",
    "\n",
    "\n",
    "e = ERDDAP(\n",
    "    server=\"https://upwell.pfeg.noaa.gov/erddap\",\n",
    "    protocol=\"griddap\"\n",
    ")"
   ]
  },
  {
   "cell_type": "markdown",
   "metadata": {},
   "source": [
    "Single word search."
   ]
  },
  {
   "cell_type": "code",
   "execution_count": 2,
   "metadata": {
    "execution": {
     "iopub.execute_input": "2020-10-05T13:58:47.634283Z",
     "iopub.status.busy": "2020-10-05T13:58:47.633610Z",
     "iopub.status.idle": "2020-10-05T13:58:48.339050Z",
     "shell.execute_reply": "2020-10-05T13:58:48.338553Z"
    }
   },
   "outputs": [
    {
     "data": {
      "text/plain": [
       "0     erdCAnma_LonPM180\n",
       "1     erdCMnma_LonPM180\n",
       "2     erdCBsfc_LonPM180\n",
       "3     erdC125h_LonPM180\n",
       "4              erdC125h\n",
       "5              erdC1nma\n",
       "6              erdC1sfc\n",
       "7              erdCA25h\n",
       "8              erdCAnma\n",
       "9              erdCAsfc\n",
       "10             erdCB25h\n",
       "11             erdCBsfc\n",
       "12             erdCM25h\n",
       "13             erdCMnma\n",
       "14             erdCMsfc\n",
       "15             erdCS25h\n",
       "16             erdCSsfc\n",
       "17    erdC1nma_LonPM180\n",
       "18    erdC1sfc_LonPM180\n",
       "19    erdCA25h_LonPM180\n",
       "20    erdCAsfc_LonPM180\n",
       "21    erdCB25h_LonPM180\n",
       "22    erdCM25h_LonPM180\n",
       "23    erdCMsfc_LonPM180\n",
       "24    erdCS25h_LonPM180\n",
       "25    erdCSsfc_LonPM180\n",
       "26            ucsdHfrA6\n",
       "27            ucsdHfrE1\n",
       "28            ucsdHfrE2\n",
       "29            ucsdHfrE6\n",
       "30          ucsdHfrW500\n",
       "31            ucsdHfrH1\n",
       "32            ucsdHfrP2\n",
       "33            ucsdHfrP6\n",
       "34            ucsdHfrW1\n",
       "35            ucsdHfrW2\n",
       "36            ucsdHfrW6\n",
       "Name: Dataset ID, dtype: object"
      ]
     },
     "execution_count": 1,
     "metadata": {},
     "output_type": "execute_result"
    }
   ],
   "source": [
    "import pandas as pd\n",
    "\n",
    "search_for = \"HFRadar\"\n",
    "\n",
    "url = e.get_search_url(search_for=search_for, response=\"csv\")\n",
    "\n",
    "pd.read_csv(url)[\"Dataset ID\"]"
   ]
  },
  {
   "cell_type": "markdown",
   "metadata": {},
   "source": [
    "Filtering the search with extra words."
   ]
  },
  {
   "cell_type": "code",
   "execution_count": 3,
   "metadata": {
    "execution": {
     "iopub.execute_input": "2020-10-05T13:58:48.348910Z",
     "iopub.status.busy": "2020-10-05T13:58:48.348469Z",
     "iopub.status.idle": "2020-10-05T13:58:48.772527Z",
     "shell.execute_reply": "2020-10-05T13:58:48.772137Z"
    }
   },
   "outputs": [
    {
     "data": {
      "text/plain": [
       "0    ucsdHfrE2\n",
       "1    ucsdHfrP2\n",
       "2    ucsdHfrW2\n",
       "Name: Dataset ID, dtype: object"
      ]
     },
     "execution_count": 1,
     "metadata": {},
     "output_type": "execute_result"
    }
   ],
   "source": [
    "search_for = \"HFRadar 2km\"\n",
    "\n",
    "url = e.get_search_url(search_for=search_for, response=\"csv\")\n",
    "\n",
    "pd.read_csv(url)[\"Dataset ID\"]"
   ]
  },
  {
   "cell_type": "markdown",
   "metadata": {},
   "source": [
    "Filtering the search with words that should **not** be found."
   ]
  },
  {
   "cell_type": "code",
   "execution_count": 4,
   "metadata": {
    "execution": {
     "iopub.execute_input": "2020-10-05T13:58:48.782176Z",
     "iopub.status.busy": "2020-10-05T13:58:48.781678Z",
     "iopub.status.idle": "2020-10-05T13:58:49.267140Z",
     "shell.execute_reply": "2020-10-05T13:58:49.266768Z"
    }
   },
   "outputs": [
    {
     "data": {
      "text/plain": [
       "0       ucsdHfrA6\n",
       "1       ucsdHfrE1\n",
       "2       ucsdHfrE2\n",
       "3       ucsdHfrE6\n",
       "4     ucsdHfrW500\n",
       "5       ucsdHfrH1\n",
       "6       ucsdHfrP2\n",
       "7       ucsdHfrP6\n",
       "8       ucsdHfrW1\n",
       "9       ucsdHfrW2\n",
       "10      ucsdHfrW6\n",
       "Name: Dataset ID, dtype: object"
      ]
     },
     "execution_count": 1,
     "metadata": {},
     "output_type": "execute_result"
    }
   ],
   "source": [
    "search_for = \"HFRadar -EXPERIMENTAL\"\n",
    "\n",
    "url = e.get_search_url(search_for=search_for, response=\"csv\")\n",
    "\n",
    "pd.read_csv(url)[\"Dataset ID\"]"
   ]
  },
  {
   "cell_type": "markdown",
   "metadata": {},
   "source": [
    "Quoted search or \"phrase search,\" first let us try the unquoted search."
   ]
  },
  {
   "cell_type": "code",
   "execution_count": 5,
   "metadata": {
    "execution": {
     "iopub.execute_input": "2020-10-05T13:58:49.276706Z",
     "iopub.status.busy": "2020-10-05T13:58:49.276256Z",
     "iopub.status.idle": "2020-10-05T13:58:50.428910Z",
     "shell.execute_reply": "2020-10-05T13:58:50.429484Z"
    },
    "scrolled": true
   },
   "outputs": [
    {
     "data": {
      "text/plain": [
       "504"
      ]
     },
     "execution_count": 1,
     "metadata": {},
     "output_type": "execute_result"
    }
   ],
   "source": [
    "search_for = \"wind speed\"\n",
    "\n",
    "url = e.get_search_url(search_for=search_for, response=\"csv\")\n",
    "\n",
    "len(pd.read_csv(url)[\"Dataset ID\"])"
   ]
  },
  {
   "cell_type": "markdown",
   "metadata": {},
   "source": [
    "Too many datasets because wind, speed, and wind speed are matched.\n",
    "Now let's use the quoted search to reduce the number of results to only wind speed."
   ]
  },
  {
   "cell_type": "code",
   "execution_count": 6,
   "metadata": {
    "execution": {
     "iopub.execute_input": "2020-10-05T13:58:50.439267Z",
     "iopub.status.busy": "2020-10-05T13:58:50.432592Z",
     "iopub.status.idle": "2020-10-05T13:58:51.567023Z",
     "shell.execute_reply": "2020-10-05T13:58:51.566614Z"
    }
   },
   "outputs": [
    {
     "data": {
      "text/plain": [
       "483"
      ]
     },
     "execution_count": 1,
     "metadata": {},
     "output_type": "execute_result"
    }
   ],
   "source": [
    "search_for = '\"wind speed\"'\n",
    "\n",
    "url = e.get_search_url(search_for=search_for, response=\"csv\")\n",
    "\n",
    "len(pd.read_csv(url)[\"Dataset ID\"])"
   ]
  },
  {
   "cell_type": "markdown",
   "metadata": {},
   "source": [
    "This example is written in a Jupyter Notebook\n",
    "[click here](https://raw.githubusercontent.com/ioos/erddapy/master/notebooks/searchfor.ipynb)\n",
    "to download the notebook so you can run it locally, or [click here](https://binder.pangeo.io/v2/gh/ioos/erddapy/master?filepath=notebooks/searchfor.ipynb) to run a live instance of this notebook."
   ]
  }
 ],
 "metadata": {
  "_draft": {
   "nbviewer_url": "https://gist.github.com/8ec655651bf16b6e0328367caff971c1"
  },
  "gist": {
   "data": {
    "description": "ERDDAP searchFor",
    "public": true
   },
   "id": "8ec655651bf16b6e0328367caff971c1"
  },
  "gist_id": "3f0f25b13ade0c64c84607bd92903d1b",
  "kernelspec": {
   "display_name": "Python 3",
   "language": "python",
   "name": "python3"
  },
  "language_info": {
   "codemirror_mode": {
    "name": "ipython",
    "version": 3
   },
   "file_extension": ".py",
   "mimetype": "text/x-python",
   "name": "python",
   "nbconvert_exporter": "python",
   "pygments_lexer": "ipython3",
   "version": "3.8.5"
  }
 },
 "nbformat": 4,
 "nbformat_minor": 1
}
