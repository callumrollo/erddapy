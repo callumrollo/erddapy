{
 "cells": [
  {
   "cell_type": "markdown",
   "metadata": {},
   "source": [
    "# Searching datasets\n",
    "\n",
    "\n",
    "erddapy can wrap the same form-like search capabilities of ERDDAP with the *search_for* keyword."
   ]
  },
  {
   "cell_type": "code",
   "execution_count": 1,
   "metadata": {},
   "outputs": [],
   "source": [
    "from erddapy import ERDDAP\n",
    "\n",
    "\n",
    "e = ERDDAP(\n",
    "    server=\"https://upwell.pfeg.noaa.gov/erddap\",\n",
    "    protocol=\"griddap\"\n",
    ")"
   ]
  },
  {
   "cell_type": "markdown",
   "metadata": {},
   "source": [
    "Single word search."
   ]
  },
  {
   "cell_type": "code",
   "execution_count": 2,
   "metadata": {},
   "outputs": [
    {
     "data": {
      "text/plain": [
       "0     erdCAnma_LonPM180\n",
       "1     erdC125h_LonPM180\n",
       "2     erdC1nma_LonPM180\n",
       "3     erdC1sfc_LonPM180\n",
       "4     erdCAsfc_LonPM180\n",
       "5     erdCB25h_LonPM180\n",
       "6     erdCBsfc_LonPM180\n",
       "7     erdCM25h_LonPM180\n",
       "8     erdCMnma_LonPM180\n",
       "9     erdCMsfc_LonPM180\n",
       "10    erdCS25h_LonPM180\n",
       "11    erdCSsfc_LonPM180\n",
       "12    erdCA25h_LonPM180\n",
       "13             erdC125h\n",
       "14             erdC1nma\n",
       "15             erdC1sfc\n",
       "16             erdCA25h\n",
       "17             erdCAnma\n",
       "18             erdCAsfc\n",
       "19             erdCB25h\n",
       "20             erdCBsfc\n",
       "21             erdCM25h\n",
       "22             erdCMnma\n",
       "23             erdCMsfc\n",
       "24             erdCS25h\n",
       "25             erdCSsfc\n",
       "26            ucsdHfrP2\n",
       "27            ucsdHfrA6\n",
       "28            ucsdHfrH1\n",
       "29            ucsdHfrP6\n",
       "30            ucsdHfrW6\n",
       "31            ucsdHfrE6\n",
       "32            ucsdHfrW1\n",
       "33            ucsdHfrW2\n",
       "34          ucsdHfrW500\n",
       "35            ucsdHfrE1\n",
       "36            ucsdHfrE2\n",
       "Name: Dataset ID, dtype: object"
      ]
     },
     "execution_count": 2,
     "metadata": {},
     "output_type": "execute_result"
    }
   ],
   "source": [
    "import pandas as pd\n",
    "\n",
    "search_for = \"HFRadar\"\n",
    "\n",
    "url = e.get_search_url(search_for=search_for, response=\"csv\")\n",
    "\n",
    "pd.read_csv(url)[\"Dataset ID\"]"
   ]
  },
  {
   "cell_type": "markdown",
   "metadata": {},
   "source": [
    "Filtering the search with extra words."
   ]
  },
  {
   "cell_type": "code",
   "execution_count": 3,
   "metadata": {},
   "outputs": [
    {
     "data": {
      "text/plain": [
       "0    ucsdHfrP2\n",
       "1    ucsdHfrW2\n",
       "2    ucsdHfrE2\n",
       "Name: Dataset ID, dtype: object"
      ]
     },
     "execution_count": 3,
     "metadata": {},
     "output_type": "execute_result"
    }
   ],
   "source": [
    "search_for = \"HFRadar 2km\"\n",
    "\n",
    "url = e.get_search_url(search_for=search_for, response=\"csv\")\n",
    "\n",
    "pd.read_csv(url)[\"Dataset ID\"]"
   ]
  },
  {
   "cell_type": "markdown",
   "metadata": {},
   "source": [
    "Filtering the search with words that should **not** be found."
   ]
  },
  {
   "cell_type": "code",
   "execution_count": 4,
   "metadata": {},
   "outputs": [
    {
     "data": {
      "text/plain": [
       "0       ucsdHfrP2\n",
       "1       ucsdHfrA6\n",
       "2       ucsdHfrH1\n",
       "3       ucsdHfrP6\n",
       "4       ucsdHfrW6\n",
       "5       ucsdHfrE6\n",
       "6       ucsdHfrW1\n",
       "7       ucsdHfrW2\n",
       "8     ucsdHfrW500\n",
       "9       ucsdHfrE1\n",
       "10      ucsdHfrE2\n",
       "Name: Dataset ID, dtype: object"
      ]
     },
     "execution_count": 4,
     "metadata": {},
     "output_type": "execute_result"
    }
   ],
   "source": [
    "search_for = \"HFRadar -EXPERIMENTAL\"\n",
    "\n",
    "url = e.get_search_url(search_for=search_for, response=\"csv\")\n",
    "\n",
    "pd.read_csv(url)[\"Dataset ID\"]"
   ]
  },
  {
   "cell_type": "markdown",
   "metadata": {},
   "source": [
    "Quoted search or \"phrase search,\" first let us try the unquoted search."
   ]
  },
  {
   "cell_type": "code",
   "execution_count": 5,
   "metadata": {
    "scrolled": true
   },
   "outputs": [
    {
     "data": {
      "text/plain": [
       "504"
      ]
     },
     "execution_count": 5,
     "metadata": {},
     "output_type": "execute_result"
    }
   ],
   "source": [
    "search_for = \"wind speed\"\n",
    "\n",
    "url = e.get_search_url(search_for=search_for, response=\"csv\")\n",
    "\n",
    "len(pd.read_csv(url)[\"Dataset ID\"])"
   ]
  },
  {
   "cell_type": "markdown",
   "metadata": {},
   "source": [
    "Too many datasets because wind, speed, and wind speed are matched.\n",
    "Now let's use the quoted search to reduce the number of results to only wind speed."
   ]
  },
  {
   "cell_type": "code",
   "execution_count": 6,
   "metadata": {},
   "outputs": [
    {
     "data": {
      "text/plain": [
       "483"
      ]
     },
     "execution_count": 6,
     "metadata": {},
     "output_type": "execute_result"
    }
   ],
   "source": [
    "search_for = '\"wind speed\"'\n",
    "\n",
    "url = e.get_search_url(search_for=search_for, response=\"csv\")\n",
    "\n",
    "len(pd.read_csv(url)[\"Dataset ID\"])"
   ]
  },
  {
   "cell_type": "markdown",
   "metadata": {},
   "source": [
    "This example is written in a Jupyter Notebook\n",
    "[click here](https://raw.githubusercontent.com/ioos/erddapy/master/notebooks/searchfor.ipynb)\n",
    "to download the notebook so you can run it locally, or [click here](https://binder.pangeo.io/v2/gh/ioos/erddapy/master?filepath=notebooks/searchfor.ipynb) to run a live instance of this notebook."
   ]
  }
 ],
 "metadata": {
  "_draft": {
   "nbviewer_url": "https://gist.github.com/8ec655651bf16b6e0328367caff971c1"
  },
  "gist": {
   "data": {
    "description": "ERDDAP searchFor",
    "public": true
   },
   "id": "8ec655651bf16b6e0328367caff971c1"
  },
  "gist_id": "3f0f25b13ade0c64c84607bd92903d1b",
  "kernelspec": {
   "display_name": "Python 3",
   "language": "python",
   "name": "python3"
  },
  "language_info": {
   "codemirror_mode": {
    "name": "ipython",
    "version": 3
   },
   "file_extension": ".py",
   "mimetype": "text/x-python",
   "name": "python",
   "nbconvert_exporter": "python",
   "pygments_lexer": "ipython3",
   "version": "3.8.5"
  }
 },
 "nbformat": 4,
 "nbformat_minor": 1
}
