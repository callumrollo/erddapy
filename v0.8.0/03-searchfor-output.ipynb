{
 "cells": [
  {
   "cell_type": "markdown",
   "metadata": {},
   "source": [
    "# Searching datasets\n",
    "\n",
    "\n",
    "erddapy can wrap the same form-like search capabilities of ERDDAP with the *search_for* keyword."
   ]
  },
  {
   "cell_type": "code",
   "execution_count": 1,
   "metadata": {
    "execution": {
     "iopub.execute_input": "2020-11-04T11:35:22.158656Z",
     "iopub.status.busy": "2020-11-04T11:35:22.157973Z",
     "iopub.status.idle": "2020-11-04T11:35:22.482903Z",
     "shell.execute_reply": "2020-11-04T11:35:22.483258Z"
    }
   },
   "outputs": [],
   "source": [
    "from erddapy import ERDDAP\n",
    "\n",
    "\n",
    "e = ERDDAP(\n",
    "    server=\"https://upwell.pfeg.noaa.gov/erddap\",\n",
    "    protocol=\"griddap\"\n",
    ")"
   ]
  },
  {
   "cell_type": "markdown",
   "metadata": {},
   "source": [
    "Single word search."
   ]
  },
  {
   "cell_type": "code",
   "execution_count": 2,
   "metadata": {
    "execution": {
     "iopub.execute_input": "2020-11-04T11:35:22.492860Z",
     "iopub.status.busy": "2020-11-04T11:35:22.492148Z",
     "iopub.status.idle": "2020-11-04T11:35:23.066667Z",
     "shell.execute_reply": "2020-11-04T11:35:23.066294Z"
    }
   },
   "outputs": [
    {
     "data": {
      "text/plain": [
       "0              erdCA25h\n",
       "1              erdCAnma\n",
       "2              erdCAsfc\n",
       "3              erdCB25h\n",
       "4              erdCBsfc\n",
       "5              erdC125h\n",
       "6              erdC1nma\n",
       "7              erdC1sfc\n",
       "8              erdCM25h\n",
       "9              erdCMnma\n",
       "10             erdCMsfc\n",
       "11             erdCS25h\n",
       "12             erdCSsfc\n",
       "13    erdC125h_LonPM180\n",
       "14    erdC1nma_LonPM180\n",
       "15    erdC1sfc_LonPM180\n",
       "16    erdCA25h_LonPM180\n",
       "17    erdCAnma_LonPM180\n",
       "18    erdCB25h_LonPM180\n",
       "19    erdCBsfc_LonPM180\n",
       "20    erdCM25h_LonPM180\n",
       "21    erdCMnma_LonPM180\n",
       "22    erdCMsfc_LonPM180\n",
       "23    erdCS25h_LonPM180\n",
       "24    erdCSsfc_LonPM180\n",
       "25    erdCAsfc_LonPM180\n",
       "26            ucsdHfrA6\n",
       "27            ucsdHfrE1\n",
       "28            ucsdHfrE2\n",
       "29            ucsdHfrE6\n",
       "30            ucsdHfrH1\n",
       "31            ucsdHfrP2\n",
       "32            ucsdHfrP6\n",
       "33            ucsdHfrW1\n",
       "34            ucsdHfrW2\n",
       "35          ucsdHfrW500\n",
       "36            ucsdHfrW6\n",
       "Name: Dataset ID, dtype: object"
      ]
     },
     "execution_count": 1,
     "metadata": {},
     "output_type": "execute_result"
    }
   ],
   "source": [
    "import pandas as pd\n",
    "\n",
    "search_for = \"HFRadar\"\n",
    "\n",
    "url = e.get_search_url(search_for=search_for, response=\"csv\")\n",
    "\n",
    "pd.read_csv(url)[\"Dataset ID\"]"
   ]
  },
  {
   "cell_type": "markdown",
   "metadata": {},
   "source": [
    "Filtering the search with extra words."
   ]
  },
  {
   "cell_type": "code",
   "execution_count": 3,
   "metadata": {
    "execution": {
     "iopub.execute_input": "2020-11-04T11:35:23.075565Z",
     "iopub.status.busy": "2020-11-04T11:35:23.069646Z",
     "iopub.status.idle": "2020-11-04T11:35:23.410513Z",
     "shell.execute_reply": "2020-11-04T11:35:23.410072Z"
    }
   },
   "outputs": [
    {
     "data": {
      "text/plain": [
       "0    ucsdHfrE2\n",
       "1    ucsdHfrP2\n",
       "2    ucsdHfrW2\n",
       "Name: Dataset ID, dtype: object"
      ]
     },
     "execution_count": 1,
     "metadata": {},
     "output_type": "execute_result"
    }
   ],
   "source": [
    "search_for = \"HFRadar 2km\"\n",
    "\n",
    "url = e.get_search_url(search_for=search_for, response=\"csv\")\n",
    "\n",
    "pd.read_csv(url)[\"Dataset ID\"]"
   ]
  },
  {
   "cell_type": "markdown",
   "metadata": {},
   "source": [
    "Filtering the search with words that should **not** be found."
   ]
  },
  {
   "cell_type": "code",
   "execution_count": 4,
   "metadata": {
    "execution": {
     "iopub.execute_input": "2020-11-04T11:35:23.421085Z",
     "iopub.status.busy": "2020-11-04T11:35:23.420642Z",
     "iopub.status.idle": "2020-11-04T11:35:23.806256Z",
     "shell.execute_reply": "2020-11-04T11:35:23.805810Z"
    }
   },
   "outputs": [
    {
     "data": {
      "text/plain": [
       "0       ucsdHfrA6\n",
       "1       ucsdHfrE1\n",
       "2       ucsdHfrE2\n",
       "3       ucsdHfrE6\n",
       "4       ucsdHfrH1\n",
       "5       ucsdHfrP2\n",
       "6       ucsdHfrP6\n",
       "7       ucsdHfrW1\n",
       "8       ucsdHfrW2\n",
       "9     ucsdHfrW500\n",
       "10      ucsdHfrW6\n",
       "Name: Dataset ID, dtype: object"
      ]
     },
     "execution_count": 1,
     "metadata": {},
     "output_type": "execute_result"
    }
   ],
   "source": [
    "search_for = \"HFRadar -EXPERIMENTAL\"\n",
    "\n",
    "url = e.get_search_url(search_for=search_for, response=\"csv\")\n",
    "\n",
    "pd.read_csv(url)[\"Dataset ID\"]"
   ]
  },
  {
   "cell_type": "markdown",
   "metadata": {},
   "source": [
    "Quoted search or \"phrase search,\" first let us try the unquoted search."
   ]
  },
  {
   "cell_type": "code",
   "execution_count": 5,
   "metadata": {
    "execution": {
     "iopub.execute_input": "2020-11-04T11:35:23.815388Z",
     "iopub.status.busy": "2020-11-04T11:35:23.814976Z",
     "iopub.status.idle": "2020-11-04T11:35:25.331410Z",
     "shell.execute_reply": "2020-11-04T11:35:25.331055Z"
    },
    "scrolled": true
   },
   "outputs": [
    {
     "data": {
      "text/plain": [
       "487"
      ]
     },
     "execution_count": 1,
     "metadata": {},
     "output_type": "execute_result"
    }
   ],
   "source": [
    "search_for = \"wind speed\"\n",
    "\n",
    "url = e.get_search_url(search_for=search_for, response=\"csv\")\n",
    "\n",
    "len(pd.read_csv(url)[\"Dataset ID\"])"
   ]
  },
  {
   "cell_type": "markdown",
   "metadata": {},
   "source": [
    "Too many datasets because wind, speed, and wind speed are matched.\n",
    "Now let's use the quoted search to reduce the number of results to only wind speed."
   ]
  },
  {
   "cell_type": "code",
   "execution_count": 6,
   "metadata": {
    "execution": {
     "iopub.execute_input": "2020-11-04T11:35:25.340752Z",
     "iopub.status.busy": "2020-11-04T11:35:25.334381Z",
     "iopub.status.idle": "2020-11-04T11:35:26.415813Z",
     "shell.execute_reply": "2020-11-04T11:35:26.415421Z"
    }
   },
   "outputs": [
    {
     "data": {
      "text/plain": [
       "469"
      ]
     },
     "execution_count": 1,
     "metadata": {},
     "output_type": "execute_result"
    }
   ],
   "source": [
    "search_for = '\"wind speed\"'\n",
    "\n",
    "url = e.get_search_url(search_for=search_for, response=\"csv\")\n",
    "\n",
    "len(pd.read_csv(url)[\"Dataset ID\"])"
   ]
  }
 ],
 "metadata": {
  "_draft": {
   "nbviewer_url": "https://gist.github.com/8ec655651bf16b6e0328367caff971c1"
  },
  "gist": {
   "data": {
    "description": "ERDDAP searchFor",
    "public": true
   },
   "id": "8ec655651bf16b6e0328367caff971c1"
  },
  "gist_id": "3f0f25b13ade0c64c84607bd92903d1b",
  "kernelspec": {
   "display_name": "Python 3",
   "language": "python",
   "name": "python3"
  },
  "language_info": {
   "codemirror_mode": {
    "name": "ipython",
    "version": 3
   },
   "file_extension": ".py",
   "mimetype": "text/x-python",
   "name": "python",
   "nbconvert_exporter": "python",
   "pygments_lexer": "ipython3",
   "version": "3.8.6"
  }
 },
 "nbformat": 4,
 "nbformat_minor": 1
}
