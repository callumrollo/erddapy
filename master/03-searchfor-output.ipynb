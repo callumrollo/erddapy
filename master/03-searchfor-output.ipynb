{
 "cells": [
  {
   "cell_type": "markdown",
   "metadata": {},
   "source": [
    "# Searching datasets\n",
    "\n",
    "\n",
    "erddapy can wrap the same form-like search capabilities of ERDDAP with the *search_for* keyword."
   ]
  },
  {
   "cell_type": "code",
   "execution_count": 1,
   "metadata": {
    "execution": {
     "iopub.execute_input": "2020-11-12T20:52:05.440792Z",
     "iopub.status.busy": "2020-11-12T20:52:05.440122Z",
     "iopub.status.idle": "2020-11-12T20:52:05.754607Z",
     "shell.execute_reply": "2020-11-12T20:52:05.754955Z"
    }
   },
   "outputs": [],
   "source": [
    "from erddapy import ERDDAP\n",
    "\n",
    "\n",
    "e = ERDDAP(\n",
    "    server=\"https://upwell.pfeg.noaa.gov/erddap\",\n",
    "    protocol=\"griddap\"\n",
    ")"
   ]
  },
  {
   "cell_type": "markdown",
   "metadata": {},
   "source": [
    "Single word search."
   ]
  },
  {
   "cell_type": "code",
   "execution_count": 2,
   "metadata": {
    "execution": {
     "iopub.execute_input": "2020-11-12T20:52:05.764665Z",
     "iopub.status.busy": "2020-11-12T20:52:05.764268Z",
     "iopub.status.idle": "2020-11-12T20:52:06.351538Z",
     "shell.execute_reply": "2020-11-12T20:52:06.352016Z"
    }
   },
   "outputs": [
    {
     "data": {
      "text/plain": [
       "0     erdCS25h_LonPM180\n",
       "1              erdC125h\n",
       "2              erdC1nma\n",
       "3              erdC1sfc\n",
       "4              erdCA25h\n",
       "5              erdCAnma\n",
       "6              erdCAsfc\n",
       "7              erdCB25h\n",
       "8              erdCBsfc\n",
       "9              erdCM25h\n",
       "10             erdCMnma\n",
       "11             erdCMsfc\n",
       "12             erdCS25h\n",
       "13             erdCSsfc\n",
       "14    erdC125h_LonPM180\n",
       "15    erdC1nma_LonPM180\n",
       "16    erdC1sfc_LonPM180\n",
       "17    erdCA25h_LonPM180\n",
       "18    erdCAnma_LonPM180\n",
       "19    erdCAsfc_LonPM180\n",
       "20    erdCB25h_LonPM180\n",
       "21    erdCBsfc_LonPM180\n",
       "22    erdCM25h_LonPM180\n",
       "23    erdCMnma_LonPM180\n",
       "24    erdCMsfc_LonPM180\n",
       "25    erdCSsfc_LonPM180\n",
       "26            ucsdHfrH1\n",
       "27            ucsdHfrP2\n",
       "28            ucsdHfrP6\n",
       "29            ucsdHfrW2\n",
       "30            ucsdHfrW6\n",
       "31            ucsdHfrE2\n",
       "32            ucsdHfrE6\n",
       "33            ucsdHfrW1\n",
       "34          ucsdHfrW500\n",
       "35            ucsdHfrE1\n",
       "36            ucsdHfrA6\n",
       "Name: Dataset ID, dtype: object"
      ]
     },
     "execution_count": 1,
     "metadata": {},
     "output_type": "execute_result"
    }
   ],
   "source": [
    "import pandas as pd\n",
    "\n",
    "search_for = \"HFRadar\"\n",
    "\n",
    "url = e.get_search_url(search_for=search_for, response=\"csv\")\n",
    "\n",
    "pd.read_csv(url)[\"Dataset ID\"]"
   ]
  },
  {
   "cell_type": "markdown",
   "metadata": {},
   "source": [
    "Filtering the search with extra words."
   ]
  },
  {
   "cell_type": "code",
   "execution_count": 3,
   "metadata": {
    "execution": {
     "iopub.execute_input": "2020-11-12T20:52:06.361609Z",
     "iopub.status.busy": "2020-11-12T20:52:06.355611Z",
     "iopub.status.idle": "2020-11-12T20:52:06.742226Z",
     "shell.execute_reply": "2020-11-12T20:52:06.741851Z"
    }
   },
   "outputs": [
    {
     "data": {
      "text/plain": [
       "0    ucsdHfrP2\n",
       "1    ucsdHfrW2\n",
       "2    ucsdHfrE2\n",
       "Name: Dataset ID, dtype: object"
      ]
     },
     "execution_count": 1,
     "metadata": {},
     "output_type": "execute_result"
    }
   ],
   "source": [
    "search_for = \"HFRadar 2km\"\n",
    "\n",
    "url = e.get_search_url(search_for=search_for, response=\"csv\")\n",
    "\n",
    "pd.read_csv(url)[\"Dataset ID\"]"
   ]
  },
  {
   "cell_type": "markdown",
   "metadata": {},
   "source": [
    "Filtering the search with words that should **not** be found."
   ]
  },
  {
   "cell_type": "code",
   "execution_count": 4,
   "metadata": {
    "execution": {
     "iopub.execute_input": "2020-11-12T20:52:06.751468Z",
     "iopub.status.busy": "2020-11-12T20:52:06.750990Z",
     "iopub.status.idle": "2020-11-12T20:52:08.137104Z",
     "shell.execute_reply": "2020-11-12T20:52:08.136626Z"
    }
   },
   "outputs": [
    {
     "data": {
      "text/plain": [
       "0       ucsdHfrH1\n",
       "1       ucsdHfrP2\n",
       "2       ucsdHfrP6\n",
       "3       ucsdHfrW2\n",
       "4       ucsdHfrW6\n",
       "5       ucsdHfrE2\n",
       "6       ucsdHfrE6\n",
       "7       ucsdHfrW1\n",
       "8     ucsdHfrW500\n",
       "9       ucsdHfrE1\n",
       "10      ucsdHfrA6\n",
       "Name: Dataset ID, dtype: object"
      ]
     },
     "execution_count": 1,
     "metadata": {},
     "output_type": "execute_result"
    }
   ],
   "source": [
    "search_for = \"HFRadar -EXPERIMENTAL\"\n",
    "\n",
    "url = e.get_search_url(search_for=search_for, response=\"csv\")\n",
    "\n",
    "pd.read_csv(url)[\"Dataset ID\"]"
   ]
  },
  {
   "cell_type": "markdown",
   "metadata": {},
   "source": [
    "Quoted search or \"phrase search,\" first let us try the unquoted search."
   ]
  },
  {
   "cell_type": "code",
   "execution_count": 5,
   "metadata": {
    "execution": {
     "iopub.execute_input": "2020-11-12T20:52:08.146351Z",
     "iopub.status.busy": "2020-11-12T20:52:08.140271Z",
     "iopub.status.idle": "2020-11-12T20:52:09.142807Z",
     "shell.execute_reply": "2020-11-12T20:52:09.142449Z"
    },
    "scrolled": true
   },
   "outputs": [
    {
     "data": {
      "text/plain": [
       "487"
      ]
     },
     "execution_count": 1,
     "metadata": {},
     "output_type": "execute_result"
    }
   ],
   "source": [
    "search_for = \"wind speed\"\n",
    "\n",
    "url = e.get_search_url(search_for=search_for, response=\"csv\")\n",
    "\n",
    "len(pd.read_csv(url)[\"Dataset ID\"])"
   ]
  },
  {
   "cell_type": "markdown",
   "metadata": {},
   "source": [
    "Too many datasets because wind, speed, and wind speed are matched.\n",
    "Now let's use the quoted search to reduce the number of results to only wind speed."
   ]
  },
  {
   "cell_type": "code",
   "execution_count": 6,
   "metadata": {
    "execution": {
     "iopub.execute_input": "2020-11-12T20:52:09.152098Z",
     "iopub.status.busy": "2020-11-12T20:52:09.151588Z",
     "iopub.status.idle": "2020-11-12T20:52:09.956998Z",
     "shell.execute_reply": "2020-11-12T20:52:09.956551Z"
    }
   },
   "outputs": [
    {
     "data": {
      "text/plain": [
       "469"
      ]
     },
     "execution_count": 1,
     "metadata": {},
     "output_type": "execute_result"
    }
   ],
   "source": [
    "search_for = '\"wind speed\"'\n",
    "\n",
    "url = e.get_search_url(search_for=search_for, response=\"csv\")\n",
    "\n",
    "len(pd.read_csv(url)[\"Dataset ID\"])"
   ]
  }
 ],
 "metadata": {
  "_draft": {
   "nbviewer_url": "https://gist.github.com/8ec655651bf16b6e0328367caff971c1"
  },
  "gist": {
   "data": {
    "description": "ERDDAP searchFor",
    "public": true
   },
   "id": "8ec655651bf16b6e0328367caff971c1"
  },
  "gist_id": "3f0f25b13ade0c64c84607bd92903d1b",
  "kernelspec": {
   "display_name": "Python 3",
   "language": "python",
   "name": "python3"
  },
  "language_info": {
   "codemirror_mode": {
    "name": "ipython",
    "version": 3
   },
   "file_extension": ".py",
   "mimetype": "text/x-python",
   "name": "python",
   "nbconvert_exporter": "python",
   "pygments_lexer": "ipython3",
   "version": "3.8.6"
  }
 },
 "nbformat": 4,
 "nbformat_minor": 1
}
