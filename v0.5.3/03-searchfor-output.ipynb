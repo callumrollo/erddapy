{
 "cells": [
  {
   "cell_type": "markdown",
   "metadata": {},
   "source": [
    "# Searching datasets\n",
    "\n",
    "\n",
    "erddapy can wrap the same form-like search capabilities of ERDDAP with the *search_for* keyword."
   ]
  },
  {
   "cell_type": "code",
   "execution_count": 1,
   "metadata": {
    "execution": {
     "iopub.execute_input": "2020-10-08T17:16:17.369804Z",
     "iopub.status.busy": "2020-10-08T17:16:17.369103Z",
     "iopub.status.idle": "2020-10-08T17:16:17.789685Z",
     "shell.execute_reply": "2020-10-08T17:16:17.788827Z"
    }
   },
   "outputs": [],
   "source": [
    "from erddapy import ERDDAP\n",
    "\n",
    "\n",
    "e = ERDDAP(\n",
    "    server=\"https://upwell.pfeg.noaa.gov/erddap\",\n",
    "    protocol=\"griddap\"\n",
    ")"
   ]
  },
  {
   "cell_type": "markdown",
   "metadata": {},
   "source": [
    "Single word search."
   ]
  },
  {
   "cell_type": "code",
   "execution_count": 2,
   "metadata": {
    "execution": {
     "iopub.execute_input": "2020-10-08T17:16:17.799571Z",
     "iopub.status.busy": "2020-10-08T17:16:17.799115Z",
     "iopub.status.idle": "2020-10-08T17:16:18.597500Z",
     "shell.execute_reply": "2020-10-08T17:16:18.597095Z"
    }
   },
   "outputs": [
    {
     "data": {
      "text/plain": [
       "0     erdC125h_LonPM180\n",
       "1              erdC125h\n",
       "2              erdC1nma\n",
       "3              erdC1sfc\n",
       "4              erdCA25h\n",
       "5              erdCAnma\n",
       "6              erdCAsfc\n",
       "7              erdCB25h\n",
       "8              erdCBsfc\n",
       "9              erdCM25h\n",
       "10             erdCMnma\n",
       "11             erdCMsfc\n",
       "12             erdCS25h\n",
       "13             erdCSsfc\n",
       "14    erdC1nma_LonPM180\n",
       "15    erdC1sfc_LonPM180\n",
       "16    erdCA25h_LonPM180\n",
       "17    erdCAsfc_LonPM180\n",
       "18    erdCM25h_LonPM180\n",
       "19    erdCMsfc_LonPM180\n",
       "20    erdCS25h_LonPM180\n",
       "21    erdCSsfc_LonPM180\n",
       "22    erdCAnma_LonPM180\n",
       "23    erdCMnma_LonPM180\n",
       "24    erdCB25h_LonPM180\n",
       "25    erdCBsfc_LonPM180\n",
       "26            ucsdHfrA6\n",
       "27            ucsdHfrH1\n",
       "28            ucsdHfrP2\n",
       "29            ucsdHfrW1\n",
       "30            ucsdHfrW2\n",
       "31          ucsdHfrW500\n",
       "32            ucsdHfrW6\n",
       "33            ucsdHfrE1\n",
       "34            ucsdHfrE2\n",
       "35            ucsdHfrE6\n",
       "36            ucsdHfrP6\n",
       "Name: Dataset ID, dtype: object"
      ]
     },
     "execution_count": 1,
     "metadata": {},
     "output_type": "execute_result"
    }
   ],
   "source": [
    "import pandas as pd\n",
    "\n",
    "search_for = \"HFRadar\"\n",
    "\n",
    "url = e.get_search_url(search_for=search_for, response=\"csv\")\n",
    "\n",
    "pd.read_csv(url)[\"Dataset ID\"]"
   ]
  },
  {
   "cell_type": "markdown",
   "metadata": {},
   "source": [
    "Filtering the search with extra words."
   ]
  },
  {
   "cell_type": "code",
   "execution_count": 3,
   "metadata": {
    "execution": {
     "iopub.execute_input": "2020-10-08T17:16:18.607099Z",
     "iopub.status.busy": "2020-10-08T17:16:18.606667Z",
     "iopub.status.idle": "2020-10-08T17:16:19.128128Z",
     "shell.execute_reply": "2020-10-08T17:16:19.127770Z"
    }
   },
   "outputs": [
    {
     "data": {
      "text/plain": [
       "0    ucsdHfrP2\n",
       "1    ucsdHfrW2\n",
       "2    ucsdHfrE2\n",
       "Name: Dataset ID, dtype: object"
      ]
     },
     "execution_count": 1,
     "metadata": {},
     "output_type": "execute_result"
    }
   ],
   "source": [
    "search_for = \"HFRadar 2km\"\n",
    "\n",
    "url = e.get_search_url(search_for=search_for, response=\"csv\")\n",
    "\n",
    "pd.read_csv(url)[\"Dataset ID\"]"
   ]
  },
  {
   "cell_type": "markdown",
   "metadata": {},
   "source": [
    "Filtering the search with words that should **not** be found."
   ]
  },
  {
   "cell_type": "code",
   "execution_count": 4,
   "metadata": {
    "execution": {
     "iopub.execute_input": "2020-10-08T17:16:19.137750Z",
     "iopub.status.busy": "2020-10-08T17:16:19.137309Z",
     "iopub.status.idle": "2020-10-08T17:16:19.775446Z",
     "shell.execute_reply": "2020-10-08T17:16:19.775003Z"
    }
   },
   "outputs": [
    {
     "data": {
      "text/plain": [
       "0       ucsdHfrA6\n",
       "1       ucsdHfrH1\n",
       "2       ucsdHfrP2\n",
       "3       ucsdHfrW1\n",
       "4       ucsdHfrW2\n",
       "5     ucsdHfrW500\n",
       "6       ucsdHfrW6\n",
       "7       ucsdHfrE1\n",
       "8       ucsdHfrE2\n",
       "9       ucsdHfrE6\n",
       "10      ucsdHfrP6\n",
       "Name: Dataset ID, dtype: object"
      ]
     },
     "execution_count": 1,
     "metadata": {},
     "output_type": "execute_result"
    }
   ],
   "source": [
    "search_for = \"HFRadar -EXPERIMENTAL\"\n",
    "\n",
    "url = e.get_search_url(search_for=search_for, response=\"csv\")\n",
    "\n",
    "pd.read_csv(url)[\"Dataset ID\"]"
   ]
  },
  {
   "cell_type": "markdown",
   "metadata": {},
   "source": [
    "Quoted search or \"phrase search,\" first let us try the unquoted search."
   ]
  },
  {
   "cell_type": "code",
   "execution_count": 5,
   "metadata": {
    "execution": {
     "iopub.execute_input": "2020-10-08T17:16:19.785135Z",
     "iopub.status.busy": "2020-10-08T17:16:19.778601Z",
     "iopub.status.idle": "2020-10-08T17:16:21.803812Z",
     "shell.execute_reply": "2020-10-08T17:16:21.803449Z"
    },
    "scrolled": true
   },
   "outputs": [
    {
     "data": {
      "text/plain": [
       "504"
      ]
     },
     "execution_count": 1,
     "metadata": {},
     "output_type": "execute_result"
    }
   ],
   "source": [
    "search_for = \"wind speed\"\n",
    "\n",
    "url = e.get_search_url(search_for=search_for, response=\"csv\")\n",
    "\n",
    "len(pd.read_csv(url)[\"Dataset ID\"])"
   ]
  },
  {
   "cell_type": "markdown",
   "metadata": {},
   "source": [
    "Too many datasets because wind, speed, and wind speed are matched.\n",
    "Now let's use the quoted search to reduce the number of results to only wind speed."
   ]
  },
  {
   "cell_type": "code",
   "execution_count": 6,
   "metadata": {
    "execution": {
     "iopub.execute_input": "2020-10-08T17:16:21.813231Z",
     "iopub.status.busy": "2020-10-08T17:16:21.812754Z",
     "iopub.status.idle": "2020-10-08T17:16:23.340976Z",
     "shell.execute_reply": "2020-10-08T17:16:23.340483Z"
    }
   },
   "outputs": [
    {
     "data": {
      "text/plain": [
       "483"
      ]
     },
     "execution_count": 1,
     "metadata": {},
     "output_type": "execute_result"
    }
   ],
   "source": [
    "search_for = '\"wind speed\"'\n",
    "\n",
    "url = e.get_search_url(search_for=search_for, response=\"csv\")\n",
    "\n",
    "len(pd.read_csv(url)[\"Dataset ID\"])"
   ]
  }
 ],
 "metadata": {
  "_draft": {
   "nbviewer_url": "https://gist.github.com/8ec655651bf16b6e0328367caff971c1"
  },
  "gist": {
   "data": {
    "description": "ERDDAP searchFor",
    "public": true
   },
   "id": "8ec655651bf16b6e0328367caff971c1"
  },
  "gist_id": "3f0f25b13ade0c64c84607bd92903d1b",
  "kernelspec": {
   "display_name": "Python 3",
   "language": "python",
   "name": "python3"
  },
  "language_info": {
   "codemirror_mode": {
    "name": "ipython",
    "version": 3
   },
   "file_extension": ".py",
   "mimetype": "text/x-python",
   "name": "python",
   "nbconvert_exporter": "python",
   "pygments_lexer": "ipython3",
   "version": "3.8.6"
  }
 },
 "nbformat": 4,
 "nbformat_minor": 1
}
