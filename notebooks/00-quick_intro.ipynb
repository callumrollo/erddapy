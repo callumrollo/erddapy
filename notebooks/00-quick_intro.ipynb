{
 "cells": [
  {
   "cell_type": "markdown",
   "metadata": {},
   "source": [
    "# Quick introduction\n",
    "\n",
    "\n",
    "erddapy is a pure python package and can be installed with conda\n",
    "\n",
    "\n",
    "```shell\n",
    "conda install --channel conda-forge erddapy\n",
    "```\n",
    "\n",
    " or pip\n",
    "\n",
    "```shell\n",
    "pip install erddapy\n",
    "```"
   ]
  },
  {
   "cell_type": "markdown",
   "metadata": {},
   "source": [
    "First we need to instantiate the ERDDAP URL constructor for a server.\n",
    "In this example we will use [https://gliders.ioos.us/erddap](https://gliders.ioos.us/erddap/index.html)."
   ]
  },
  {
   "cell_type": "code",
   "execution_count": null,
   "metadata": {},
   "outputs": [],
   "source": [
    "from erddapy import ERDDAP\n",
    "\n",
    "\n",
    "e = ERDDAP(\n",
    "    server=\"NGDAC\", # \"NOAA IOOS NGDAC (National Glider Data Assembly Center)\"\n",
    "    protocol=\"tabledap\",\n",
    "    response=\"csv\",\n",
    ")"
   ]
  },
  {
   "cell_type": "markdown",
   "metadata": {},
   "source": [
    "Now we can populate the object a dataset id, variables of interest, and \n",
    "its constraints. We can download the csvp response with the `.to_pandas` method."
   ]
  },
  {
   "cell_type": "code",
   "execution_count": null,
   "metadata": {},
   "outputs": [],
   "source": [
    "e.dataset_id = \"whoi_406-20160902T1700\"\n",
    "\n",
    "e.variables = [\n",
    "    \"depth\",\n",
    "    \"latitude\",\n",
    "    \"longitude\",\n",
    "    \"salinity\",\n",
    "    \"temperature\",\n",
    "    \"time\",\n",
    "]\n",
    "\n",
    "e.constraints = {\n",
    "    \"time>=\": \"2016-09-03T00:00:00Z\",\n",
    "    \"time<=\": \"2016-09-04T00:00:00Z\",\n",
    "    \"latitude>=\": 38.0,\n",
    "    \"latitude<=\": 41.0,\n",
    "    \"longitude>=\": -72.0,\n",
    "    \"longitude<=\": -69.0,\n",
    "}\n",
    "\n",
    "\n",
    "df = e.to_pandas(\n",
    "    index_col=\"time (UTC)\",\n",
    "    parse_dates=True,\n",
    ").dropna()\n",
    "\n",
    "df.head()"
   ]
  }
 ],
 "metadata": {
  "_draft": {
   "nbviewer_url": "https://gist.github.com/7e5eab16282538d11fdab7de5bd0c474"
  },
  "gist": {
   "data": {
    "description": "ERDDAP_advanced_glider_search.ipynb",
    "public": true
   },
   "id": "7e5eab16282538d11fdab7de5bd0c474"
  },
  "gist_id": "3f0f25b13ade0c64c84607bd92903d1b",
  "kernelspec": {
   "display_name": "Python 3",
   "language": "python",
   "name": "python3"
  },
  "language_info": {
   "codemirror_mode": {
    "name": "ipython",
    "version": 3
   },
   "file_extension": ".py",
   "mimetype": "text/x-python",
   "name": "python",
   "nbconvert_exporter": "python",
   "pygments_lexer": "ipython3",
   "version": "3.8.5"
  }
 },
 "nbformat": 4,
 "nbformat_minor": 1
}
