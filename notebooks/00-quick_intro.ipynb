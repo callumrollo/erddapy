{
 "cells": [
  {
   "cell_type": "markdown",
   "metadata": {},
   "source": [
    "# Quick introduction\n",
    "\n",
    "erddapy is a pure python package and can be installed with conda\n",
    "\n",
    "```shell\n",
    "conda install --channel conda-forge erddapy\n",
    "```\n",
    "\n",
    "or pip\n",
    "\n",
    "```shell\n",
    "pip install erddapy\n",
    "```\n",
    "\n",
    "\n",
    "First we need to instantiate the ERDDAP URL constructor for a server.\n",
    "In this example we will use\n",
    "[https://erddap.ifremer.fr/erddap](https://erddap.ifremer.fr/erddap/index.html)."
   ]
  },
  {
   "cell_type": "code",
   "execution_count": null,
   "metadata": {},
   "outputs": [],
   "source": [
    "from erddapy import ERDDAP\n",
    "\n",
    "\n",
    "e = ERDDAP(\n",
    "    server=\"ifremer\",\n",
    "    protocol=\"tabledap\",\n",
    "    response=\"csv\",\n",
    ")"
   ]
  },
  {
   "cell_type": "markdown",
   "metadata": {},
   "source": [
    "Now we can populate the object a dataset id, variables of interest, and its\n",
    "constraints (last week gliders). Use the method `to_pandas` to download the\n",
    "csv(p) response, a comma separated values with units and explore the Dataframe.\n"
   ]
  },
  {
   "cell_type": "code",
   "execution_count": null,
   "metadata": {},
   "outputs": [],
   "source": [
    "e.dataset_id = \"OceanGlidersGDACTrajectories\"\n",
    "\n",
    "e.variables = [\n",
    "    \"time\",\n",
    "    \"latitude\",\n",
    "    \"longitude\",\n",
    "    \"PRES\",\n",
    "    \"PSAL\",\n",
    "    \"TEMP\",\n",
    "]\n",
    "\n",
    "e.constraints = {\n",
    "    \"time>=\": \"2000-01-01\",\n",
    "}\n",
    "\n",
    "\n",
    "df = e.to_pandas(\n",
    "    index_col=\"time (UTC)\",\n",
    "    parse_dates=True,\n",
    ").dropna()\n",
    "\n",
    "df.head()"
   ]
  },
  {
   "cell_type": "markdown",
   "metadata": {},
   "source": [
    "We can constraint the in time and space with relative constraints like in the\n",
    "example below. For more ways to access the data please check the \"Longer\n",
    "introduction.\"\n"
   ]
  },
  {
   "cell_type": "code",
   "execution_count": null,
   "metadata": {},
   "outputs": [],
   "source": [
    "constraints = {\n",
    "    \"time>=\": \"now-14days\",\n",
    "    \"time<=\": \"now-7days\",\n",
    "    \"longitude<=\": \"min(longitude)+10\",\n",
    "    \"longitude>=\": \"min(longitude)\",\n",
    "}\n",
    "\n",
    "\n",
    "url = e.get_download_url(\n",
    "    response=\"htmlTable\",\n",
    "    constraints=constraints,\n",
    ")\n",
    "\n",
    "print(url)"
   ]
  },
  {
   "cell_type": "markdown",
   "metadata": {},
   "source": [
    "The same request as above but with non-relative constraints. Note that these\n",
    "values will change if we run this at a later time.\n"
   ]
  },
  {
   "cell_type": "code",
   "execution_count": null,
   "metadata": {},
   "outputs": [],
   "source": [
    "constraints = {\n",
    "    \"time>=\": \"2023-02-06T19:12:32Z\",\n",
    "    \"time<=\": \"2023-02-13T19:12:32Z\",\n",
    "    \"longitude>=\": -149.60,\n",
    "    \"longitude<=\": -139.60,\n",
    "}\n",
    "\n",
    "url = e.get_download_url(\n",
    "    response=\"html\",\n",
    "    constraints=constraints,\n",
    ")\n",
    "\n",
    "print(url)"
   ]
  },
  {
   "cell_type": "markdown",
   "metadata": {},
   "source": [
    "We can search all datasets with a set of constraints by setting `dataset_id` to `\"allDatasets\"`. Note that these variables are different than the ones available at the individual dataset level. For a reference of the possible variables to query all datasets see the `<server-url>/erddap/<protocol>/allDatasets.html` page, like [this one](https://erddap.ifremer.fr/erddap/tabledap/allDatasets.html) for the Ifremer ERDDAP server."
   ]
  },
  {
   "cell_type": "code",
   "execution_count": null,
   "metadata": {},
   "outputs": [],
   "source": [
    "e.dataset_id = \"allDatasets\"\n",
    "\n",
    "e.variables = [\n",
    "    \"datasetID\",\n",
    "    \"institution\",\n",
    "    \"minTime\",\n",
    "    \"maxTime\",\n",
    "    \"minLatitude\",\n",
    "    \"maxLatitude\",\n",
    "    \"minLongitude\",\n",
    "    \"maxLongitude\",\n",
    "]\n",
    "\n",
    "\n",
    "e.constraints = {\n",
    "    \"minTime>=\": \"1997-01-01T00:00:00Z\",\n",
    "}\n",
    "\n",
    "\n",
    "url = e.get_download_url(response=\"html\")\n",
    "print(url)\n",
    "\n",
    "df = e.to_pandas(\n",
    "    index_col=\"datasetID\",\n",
    "    parse_dates=True,\n",
    ").dropna()\n",
    "\n",
    "\n",
    "df.head()"
   ]
  }
 ],
 "metadata": {
  "_draft": {
   "nbviewer_url": "https://gist.github.com/7e5eab16282538d11fdab7de5bd0c474"
  },
  "gist": {
   "data": {
    "description": "ERDDAP_advanced_glider_search.ipynb",
    "public": true
   },
   "id": "7e5eab16282538d11fdab7de5bd0c474"
  },
  "gist_id": "3f0f25b13ade0c64c84607bd92903d1b",
  "kernelspec": {
   "display_name": "Python 3 (ipykernel)",
   "language": "python",
   "name": "python3"
  },
  "language_info": {
   "codemirror_mode": {
    "name": "ipython",
    "version": 3
   },
   "file_extension": ".py",
   "mimetype": "text/x-python",
   "name": "python",
   "nbconvert_exporter": "python",
   "pygments_lexer": "ipython3",
   "version": "3.11.1"
  }
 },
 "nbformat": 4,
 "nbformat_minor": 1
}
