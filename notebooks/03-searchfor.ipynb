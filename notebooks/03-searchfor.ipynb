{
 "cells": [
  {
   "cell_type": "markdown",
   "metadata": {},
   "source": [
    "# Searching datasets\n",
    "\n",
    "erddapy can wrap the same form-like search capabilities of ERDDAP with the\n",
    "_search_for_ keyword.\n"
   ]
  },
  {
   "cell_type": "code",
   "execution_count": null,
   "metadata": {},
   "outputs": [],
   "source": [
    "from erddapy import ERDDAP\n",
    "\n",
    "\n",
    "e = ERDDAP(server=\"https://upwell.pfeg.noaa.gov/erddap\", protocol=\"griddap\")"
   ]
  },
  {
   "cell_type": "markdown",
   "metadata": {},
   "source": [
    "Single word search.\n"
   ]
  },
  {
   "cell_type": "code",
   "execution_count": null,
   "metadata": {},
   "outputs": [],
   "source": [
    "import pandas as pd\n",
    "\n",
    "search_for = \"HFRadar\"\n",
    "\n",
    "url = e.get_search_url(search_for=search_for, response=\"csv\")\n",
    "\n",
    "pd.read_csv(url)[\"Dataset ID\"]"
   ]
  },
  {
   "cell_type": "markdown",
   "metadata": {},
   "source": [
    "Filtering the search with extra words.\n"
   ]
  },
  {
   "cell_type": "code",
   "execution_count": null,
   "metadata": {},
   "outputs": [],
   "source": [
    "search_for = \"HFRadar 2km\"\n",
    "\n",
    "url = e.get_search_url(search_for=search_for, response=\"csv\")\n",
    "\n",
    "pd.read_csv(url)[\"Dataset ID\"]"
   ]
  },
  {
   "cell_type": "markdown",
   "metadata": {},
   "source": [
    "Filtering the search with words that should **not** be found.\n"
   ]
  },
  {
   "cell_type": "code",
   "execution_count": null,
   "metadata": {},
   "outputs": [],
   "source": [
    "search_for = \"HFRadar -EXPERIMENTAL\"\n",
    "\n",
    "url = e.get_search_url(search_for=search_for, response=\"csv\")\n",
    "\n",
    "pd.read_csv(url)[\"Dataset ID\"]"
   ]
  },
  {
   "cell_type": "markdown",
   "metadata": {},
   "source": [
    "Quoted search or \"phrase search,\" first let us try the unquoted search.\n"
   ]
  },
  {
   "cell_type": "code",
   "execution_count": null,
   "metadata": {
    "scrolled": true
   },
   "outputs": [],
   "source": [
    "search_for = \"wind speed\"\n",
    "\n",
    "url = e.get_search_url(search_for=search_for, response=\"csv\")\n",
    "\n",
    "len(pd.read_csv(url)[\"Dataset ID\"])"
   ]
  },
  {
   "cell_type": "markdown",
   "metadata": {},
   "source": [
    "Too many datasets because wind, speed, and wind speed are matched. Now let's use\n",
    "the quoted search to reduce the number of results to only wind speed.\n"
   ]
  },
  {
   "cell_type": "code",
   "execution_count": null,
   "metadata": {},
   "outputs": [],
   "source": [
    "search_for = '\"wind speed\"'\n",
    "\n",
    "url = e.get_search_url(search_for=search_for, response=\"csv\")\n",
    "\n",
    "len(pd.read_csv(url)[\"Dataset ID\"])"
   ]
  }
 ],
 "metadata": {
  "_draft": {
   "nbviewer_url": "https://gist.github.com/8ec655651bf16b6e0328367caff971c1"
  },
  "gist": {
   "data": {
    "description": "ERDDAP searchFor",
    "public": true
   },
   "id": "8ec655651bf16b6e0328367caff971c1"
  },
  "gist_id": "3f0f25b13ade0c64c84607bd92903d1b",
  "kernelspec": {
   "display_name": "Python 3",
   "language": "python",
   "name": "python3"
  },
  "language_info": {
   "codemirror_mode": {
    "name": "ipython",
    "version": 3
   },
   "file_extension": ".py",
   "mimetype": "text/x-python",
   "name": "python",
   "nbconvert_exporter": "python",
   "pygments_lexer": "ipython3",
   "version": "3.8.5"
  }
 },
 "nbformat": 4,
 "nbformat_minor": 1
}
