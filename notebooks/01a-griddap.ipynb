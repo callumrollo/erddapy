{
 "cells": [
  {
   "cell_type": "markdown",
   "metadata": {},
   "source": [
    "# Griddap\n",
    "\n",
    "Erddapy can access gridded datasets, using the server-side subsetting of griddap\n",
    "or the OPeNDAP response, to download only the parts of a dataset that the user\n",
    "requires.\n",
    "\n",
    "In our example we will use a Region of Interest (ROI) to extract data within its\n",
    "bounds. First we need to read the ROI with `geopandas`. Let's use the South\n",
    "Atlantic Ocean basin from Natural Earth as our ROI.\n"
   ]
  },
  {
   "cell_type": "code",
   "execution_count": null,
   "metadata": {},
   "outputs": [],
   "source": [
    "import geopandas\n",
    "import pooch\n",
    "\n",
    "url = \"https://naturalearth.s3.amazonaws.com/4.1.1/50m_physical/ne_50m_geography_marine_polys.zip\"\n",
    "fname = pooch.retrieve(\n",
    "    url,\n",
    "    known_hash=\"db6f59e5a747c016451caec2450db6deea25d702dc2fb9c39384c1b909fb7f72\",\n",
    ")\n",
    "\n",
    "oceans = geopandas.read_file(fname)\n",
    "\n",
    "name = \"South Atlantic Ocean\"\n",
    "SA = oceans.loc[oceans[\"name\"] == name]"
   ]
  },
  {
   "cell_type": "markdown",
   "metadata": {},
   "source": [
    "When accessing gridded datasets we need to define the `protocol=\"griddap\"` in\n",
    "our class instantiation.\n"
   ]
  },
  {
   "cell_type": "code",
   "execution_count": null,
   "metadata": {
    "pycharm": {
     "name": "#%%\n"
    }
   },
   "outputs": [],
   "source": [
    "from erddapy import ERDDAP\n",
    "\n",
    "e = ERDDAP(\n",
    "    server=\"CSWC\",  # CoastWatch West Coast Node\n",
    "    protocol=\"griddap\",  # Protocol for gridded datasets\n",
    ")\n",
    "\n",
    "e.dataset_id = \"jplAvisoSshMon_LonPM180\"  #  AVISO Model Output, obs4MIPs NASA-JPL, Global, 1 Degree"
   ]
  },
  {
   "cell_type": "markdown",
   "metadata": {},
   "source": [
    "CAVEAT: Note that ERDDAP can serve gridded data with longitudes in the\n",
    "0&ndash;360 format or -180&ndash;180. You must inspect the dataset and modify\n",
    "your query accordingly.\n",
    "\n",
    "Information on the griddap dataset is fetched with `griddap_initialize`. This\n",
    "fills in the `variables` and `constraints` properties for that dataset.\n"
   ]
  },
  {
   "cell_type": "code",
   "execution_count": null,
   "metadata": {},
   "outputs": [],
   "source": [
    "import json\n",
    "\n",
    "e.griddap_initialize()\n",
    "\n",
    "print(f\"variables in this dataset:\\n\\n{e.variables}\")\n",
    "print(\n",
    "    f\"\\nconstraints of this dataset:\\n\\n{json.dumps(e.constraints, indent=1)}\"\n",
    ")"
   ]
  },
  {
   "cell_type": "markdown",
   "metadata": {},
   "source": [
    "The default behaviour is to use erddap standard subsetting: return all variables\n",
    "at the most recent timestep and every point of the remaining dimensions.\n",
    "\n",
    "This can result in large datasets, the values of the constraints can be changed,\n",
    "and variables dropped before data set is downloaded. Here we will download only\n",
    "one variable from that list.\n"
   ]
  },
  {
   "cell_type": "code",
   "execution_count": null,
   "metadata": {},
   "outputs": [],
   "source": [
    "e.variables = [e.variables[0]]\n",
    "\n",
    "print(f\"Downloading {e.variables}.\")"
   ]
  },
  {
   "cell_type": "markdown",
   "metadata": {},
   "source": [
    "We will reduce the dataset a bit further by requesting only the data that is\n",
    "inside the bounding box of the South Atlantic.\n"
   ]
  },
  {
   "cell_type": "code",
   "execution_count": null,
   "metadata": {},
   "outputs": [],
   "source": [
    "def bounds2contraints(bounds):\n",
    "    return {\n",
    "        \"longitude>=\": bounds.minx.squeeze(),\n",
    "        \"longitude<=\": bounds.maxx.squeeze(),\n",
    "        \"latitude>=\": bounds.miny.squeeze(),\n",
    "        \"latitude<=\": bounds.maxy.squeeze(),\n",
    "    }\n",
    "\n",
    "\n",
    "e.constraints.update(bounds2contraints(SA.bounds))\n",
    "e.constraints"
   ]
  },
  {
   "cell_type": "code",
   "execution_count": null,
   "metadata": {},
   "outputs": [],
   "source": [
    "print(f\"\\nconstraints for download:\\n\\n{json.dumps(e.constraints, indent=1)}\")"
   ]
  },
  {
   "cell_type": "markdown",
   "metadata": {},
   "source": [
    "Once the query is prepared we can download the data into an `xarray.Dataset`\n",
    "object. (We can also download it in a `pandas.DataFrame` or `iris.Cube`\n",
    "objects.)\n"
   ]
  },
  {
   "cell_type": "code",
   "execution_count": null,
   "metadata": {},
   "outputs": [],
   "source": [
    "from urllib.parse import unquote_plus\n",
    "\n",
    "url = \"https://coastwatch.pfeg.noaa.gov/erddap/griddap/jplAvisoSshMon_LonPM180.nc?sshag%5B(2010-12-16T12:00:00Z):1:(2010-12-16T12:00:00Z)%5D%5B(-60.53346241642455):1:(0.03286652261984102)%5D%5B(-69.09208207871731):1:(19.63485354989288)%5D,nObs%5B(2010-12-16T12:00:00Z):1:(2010-12-16T12:00:00Z)%5D%5B(-60.53346241642455):1:(0.03286652261984102)%5D%5B(-69.09208207871731):1:(19.63485354989288)%5D\"\n",
    "\n",
    "unquote_plus(url)"
   ]
  },
  {
   "cell_type": "code",
   "execution_count": null,
   "metadata": {
    "scrolled": false
   },
   "outputs": [],
   "source": [
    "%%time\n",
    "\n",
    "ds = e.to_xarray()"
   ]
  },
  {
   "cell_type": "markdown",
   "metadata": {},
   "source": [
    "Once downloaded, data can be quickly visualised with xarray's inbuilt plotting\n",
    "functionality\n"
   ]
  },
  {
   "cell_type": "code",
   "execution_count": null,
   "metadata": {},
   "outputs": [],
   "source": [
    "import cartopy.crs as ccrs\n",
    "import matplotlib.pyplot as plt\n",
    "\n",
    "\n",
    "fig, ax = plt.subplots(subplot_kw={\"projection\": ccrs.PlateCarree()})\n",
    "ds[\"sshag\"].plot(ax=ax)\n",
    "ax.coastlines()"
   ]
  },
  {
   "cell_type": "markdown",
   "metadata": {},
   "source": [
    "Note that we did not extract the exact ROI but instead we downloaded what is\n",
    "inside its bounds. We can refine the data selection using region mask and\n",
    "download strictly what is inside th ROI. The `regionmask` module can created\n",
    "from the `geopandas` object.\n"
   ]
  },
  {
   "cell_type": "code",
   "execution_count": null,
   "metadata": {},
   "outputs": [],
   "source": [
    "import regionmask\n",
    "\n",
    "\n",
    "region = regionmask.from_geopandas(SA, name=name)\n",
    "region.plot()"
   ]
  },
  {
   "cell_type": "code",
   "execution_count": null,
   "metadata": {},
   "outputs": [],
   "source": [
    "mask = region.mask(\n",
    "    ds,\n",
    "    lon_name=\"longitude\",\n",
    "    lat_name=\"latitude\",\n",
    "    method=\"pygeos\",\n",
    ")\n",
    "\n",
    "\n",
    "fig, ax = plt.subplots(subplot_kw={\"projection\": ccrs.PlateCarree()})\n",
    "ds[\"sshag\"].sel(time=\"2010\").where(mask == region.numbers[0]).plot(ax=ax)\n",
    "ax.coastlines()"
   ]
  },
  {
   "cell_type": "markdown",
   "metadata": {},
   "source": [
    "The main difference is that now we did not load data from rivers plumes that are\n",
    "not part of the ROI. (Check the Río de la Plata area in both plots.)\n"
   ]
  },
  {
   "cell_type": "markdown",
   "metadata": {},
   "source": [
    "### Subset after the request with OPeNDAP\n",
    "\n",
    "ERDDAP server-side subsetting can be avoided by specifying the OPeNDAP protocol.\n",
    "This is a good choice if you intend to use a full dataset or subset it after the\n",
    "request.\n",
    "\n",
    "Note that most OPeNDAP clients will eagerly download only the coordinates,\n",
    "making a post request subset almost as fast as serve-side subset.\n"
   ]
  },
  {
   "cell_type": "code",
   "execution_count": null,
   "metadata": {},
   "outputs": [],
   "source": [
    "e = ERDDAP(\n",
    "    server=\"CSWC\",  # CoastWatch West Coast Node\n",
    "    protocol=\"griddap\",\n",
    "    response=\"opendap\",\n",
    ")\n",
    "e.dataset_id = \"jplAquariusSSS3MonthV5\"  # Aquarius Sea Surface Salinity, L3 SMI, Version 5, 1.0°, Global,"
   ]
  },
  {
   "cell_type": "markdown",
   "metadata": {},
   "source": [
    "The data can be downloaded immediately, no need to run `griddap_initialize`\n"
   ]
  },
  {
   "cell_type": "code",
   "execution_count": null,
   "metadata": {},
   "outputs": [],
   "source": [
    "%%time\n",
    "\n",
    "ds = e.to_xarray()"
   ]
  },
  {
   "cell_type": "markdown",
   "metadata": {},
   "source": [
    "Let's take a quick look at the data from 2015.\n"
   ]
  },
  {
   "cell_type": "code",
   "execution_count": null,
   "metadata": {},
   "outputs": [],
   "source": [
    "projection = ccrs.PlateCarree()\n",
    "\n",
    "fig, ax = plt.subplots(subplot_kw={\"projection\": projection})\n",
    "sss = ds[\"sss\"].sel(time=\"2015\")\n",
    "sss.plot(ax=ax)\n",
    "ax.coastlines()"
   ]
  },
  {
   "cell_type": "code",
   "execution_count": null,
   "metadata": {},
   "outputs": [],
   "source": [
    "mask = region.mask(\n",
    "    ds,\n",
    "    lon_name=\"longitude\",\n",
    "    lat_name=\"latitude\",\n",
    "    method=\"pygeos\",\n",
    ")\n",
    "\n",
    "\n",
    "fig, ax = plt.subplots(subplot_kw={\"projection\": ccrs.PlateCarree()})\n",
    "ds[\"sss\"].sel(time=\"2015\").where(mask == region.numbers[0]).plot(ax=ax)\n",
    "ax.coastlines()"
   ]
  },
  {
   "cell_type": "markdown",
   "metadata": {},
   "source": [
    "Thanks to `regionmask` we can go a few steps further with the ROI and compute\n",
    "statistics. Let's calculate the mean salinity time-series for the South Atlantic\n",
    "and the mean spatial salinity for the time coverage.\n"
   ]
  },
  {
   "cell_type": "code",
   "execution_count": null,
   "metadata": {},
   "outputs": [],
   "source": [
    "sasal = ds.groupby(mask).mean()\n",
    "sasal[\"sss\"].plot(marker=\"o\")"
   ]
  },
  {
   "cell_type": "code",
   "execution_count": null,
   "metadata": {},
   "outputs": [],
   "source": [
    "sasal = ds.groupby(mask).mean(dim=\"time\")\n",
    "sasal[\"sss\"].plot()"
   ]
  }
 ],
 "metadata": {
  "kernelspec": {
   "display_name": "Python 3 (ipykernel)",
   "language": "python",
   "name": "python3"
  },
  "language_info": {
   "codemirror_mode": {
    "name": "ipython",
    "version": 3
   },
   "file_extension": ".py",
   "mimetype": "text/x-python",
   "name": "python",
   "nbconvert_exporter": "python",
   "pygments_lexer": "ipython3",
   "version": "3.10.4"
  }
 },
 "nbformat": 4,
 "nbformat_minor": 1
}
