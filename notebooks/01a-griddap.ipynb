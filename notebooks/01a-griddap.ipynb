{
 "cells": [
  {
   "cell_type": "markdown",
   "metadata": {},
   "source": [
    "# Griddap\n",
    "\n",
    "Erddapy can access gridded datasets, using the server-side subsetting of griddap\n",
    "to download only the parts of a dataset that the user requires\n"
   ]
  },
  {
   "cell_type": "code",
   "execution_count": null,
   "metadata": {},
   "outputs": [],
   "source": [
    "from erddapy import ERDDAP"
   ]
  },
  {
   "cell_type": "markdown",
   "metadata": {},
   "source": [
    "When accessing gridded datasets, the kwarg `protocol='griddap'` must be used\n"
   ]
  },
  {
   "cell_type": "code",
   "execution_count": null,
   "metadata": {
    "pycharm": {
     "name": "#%%\n"
    }
   },
   "outputs": [],
   "source": [
    "e = ERDDAP(\n",
    "    server=\"CSWC\",  # \"NOAA IOOS NGDAC (National Glider Data Assembly Center)\"\n",
    "    protocol=\"griddap\",\n",
    ")\n",
    "e.dataset_id = \"ucsdHfrE1\"\n",
    "\n",
    "\n",
    "# e.constraints['bootn'] = 100\n",
    "# e.variables = ['foo', 'water_u', 'baz', 'hdop']\n",
    "# e.griddap_initialise()\n",
    "# foo = e.to_xarray()"
   ]
  },
  {
   "cell_type": "markdown",
   "metadata": {},
   "source": [
    "Information on the griddap dataset is fetched with `griddap_initialize`. This\n",
    "fills the `variables` and `constraints` properties for that dataset\n"
   ]
  },
  {
   "cell_type": "code",
   "execution_count": null,
   "metadata": {},
   "outputs": [],
   "source": [
    "e.griddap_initialize()\n",
    "\n",
    "import json\n",
    "\n",
    "print(f\"variables in this dataset:\\n\\n{e.variables}\")\n",
    "print(\n",
    "    f\"\\nconstraints of this dataset:\\n\\n{json.dumps(e.constraints, indent=1)}\"\n",
    ")"
   ]
  },
  {
   "cell_type": "markdown",
   "metadata": {},
   "source": [
    "The default behaviour is to use erddap standard subsetting: return all variables\n",
    "at the most recent timestep and every point of the remaining dimensions.\n",
    "\n",
    "This can result in large datasets, the values of the constraints can be changed,\n",
    "and variables dropped before data set is downloaded\n"
   ]
  },
  {
   "cell_type": "code",
   "execution_count": null,
   "metadata": {},
   "outputs": [],
   "source": [
    "e.variables = e.variables[:2]\n",
    "print(f\"variables for download:\\n\\n{e.variables}\")"
   ]
  },
  {
   "cell_type": "code",
   "execution_count": null,
   "metadata": {},
   "outputs": [],
   "source": [
    "e.constraints[\"latitude>=\"] = 45\n",
    "e.constraints[\"latitude_step\"] = 5\n",
    "print(f\"\\nconstraints for download:\\n\\n{json.dumps(e.constraints, indent=1)}\")"
   ]
  },
  {
   "cell_type": "markdown",
   "metadata": {},
   "source": [
    "Once the query is prepared, data can be downloaded using the same methods as\n",
    "tabledap\n"
   ]
  },
  {
   "cell_type": "code",
   "execution_count": null,
   "metadata": {},
   "outputs": [],
   "source": [
    "ds = e.to_xarray()"
   ]
  },
  {
   "cell_type": "code",
   "execution_count": null,
   "metadata": {},
   "outputs": [],
   "source": [
    "ds"
   ]
  }
 ],
 "metadata": {
  "kernelspec": {
   "display_name": "Python 3",
   "language": "python",
   "name": "python3"
  },
  "language_info": {
   "codemirror_mode": {
    "name": "ipython",
    "version": 3
   },
   "file_extension": ".py",
   "mimetype": "text/x-python",
   "name": "python",
   "nbconvert_exporter": "python",
   "pygments_lexer": "ipython3",
   "version": "3.8.5"
  }
 },
 "nbformat": 4,
 "nbformat_minor": 1
}
