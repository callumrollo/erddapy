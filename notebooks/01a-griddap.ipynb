{
 "cells": [
  {
   "cell_type": "markdown",
   "metadata": {},
   "source": [
    "# Griddap\n",
    "\n",
    "Erddapy can access gridded datasets, using the server-side subsetting of griddap\n",
    "to download only the parts of a dataset that the user requires\n"
   ]
  },
  {
   "cell_type": "code",
   "execution_count": null,
   "metadata": {},
   "outputs": [],
   "source": [
    "from erddapy import ERDDAP"
   ]
  },
  {
   "cell_type": "markdown",
   "metadata": {},
   "source": [
    "When accessing gridded datasets, the kwarg `protocol='griddap'` must be used\n"
   ]
  },
  {
   "cell_type": "code",
   "execution_count": null,
   "metadata": {
    "pycharm": {
     "name": "#%%\n"
    }
   },
   "outputs": [],
   "source": [
    "e = ERDDAP(\n",
    "    server=\"CSWC\",  # CoastWatch West Coast Node\n",
    "    protocol=\"griddap\",\n",
    ")\n",
    "e.dataset_id = (\n",
    "    \"jplAvisoSshMon\"  #  AVISO Model Output, obs4MIPs NASA-JPL, Global, 1 Degree\n",
    ")"
   ]
  },
  {
   "cell_type": "markdown",
   "metadata": {},
   "source": [
    "Information on the griddap dataset is fetched with `griddap_initialize`. This\n",
    "fills the `variables` and `constraints` properties for that dataset\n"
   ]
  },
  {
   "cell_type": "code",
   "execution_count": null,
   "metadata": {},
   "outputs": [],
   "source": [
    "e.griddap_initialize()\n",
    "\n",
    "import json\n",
    "\n",
    "print(f\"variables in this dataset:\\n\\n{e.variables}\")\n",
    "print(\n",
    "    f\"\\nconstraints of this dataset:\\n\\n{json.dumps(e.constraints, indent=1)}\"\n",
    ")"
   ]
  },
  {
   "cell_type": "markdown",
   "metadata": {},
   "source": [
    "The default behaviour is to use erddap standard subsetting: return all variables\n",
    "at the most recent timestep and every point of the remaining dimensions.\n",
    "\n",
    "This can result in large datasets, the values of the constraints can be changed,\n",
    "and variables dropped before data set is downloaded\n"
   ]
  },
  {
   "cell_type": "code",
   "execution_count": null,
   "metadata": {},
   "outputs": [],
   "source": [
    "e.variables = e.variables[:2]\n",
    "print(f\"variables for download:\\n\\n{e.variables}\")"
   ]
  },
  {
   "cell_type": "code",
   "execution_count": null,
   "metadata": {},
   "outputs": [],
   "source": [
    "e.constraints[\"latitude_step\"] = 1\n",
    "e.constraints[\"longitude_step\"] = 1\n",
    "\n",
    "print(f\"\\nconstraints for download:\\n\\n{json.dumps(e.constraints, indent=1)}\")"
   ]
  },
  {
   "cell_type": "markdown",
   "metadata": {},
   "source": [
    "Once the query is prepared, data can be downloaded to xarray DataSet, pandas\n",
    "DataFrame and more\n"
   ]
  },
  {
   "cell_type": "code",
   "execution_count": null,
   "metadata": {},
   "outputs": [],
   "source": [
    "ds = e.to_xarray()"
   ]
  },
  {
   "cell_type": "markdown",
   "metadata": {},
   "source": [
    "Once downloaded, data can be quickly visualised with xarray's inbuilt plotting\n",
    "functionality\n"
   ]
  },
  {
   "cell_type": "code",
   "execution_count": null,
   "metadata": {},
   "outputs": [],
   "source": [
    "ds[\"sshag\"].plot()"
   ]
  },
  {
   "cell_type": "markdown",
   "metadata": {},
   "source": [
    "### Skip subsetting\n",
    "\n",
    "ERDDAP server-side subsetting can be avoided by specifying the opendap protocol.\n",
    "This is a good choice if you intend to use a full dataset or take several slices\n",
    "from the same dataset\n"
   ]
  },
  {
   "cell_type": "code",
   "execution_count": null,
   "metadata": {},
   "outputs": [],
   "source": [
    "e = ERDDAP(\n",
    "    server=\"CSWC\",  # CoastWatch West Coast Node\n",
    "    protocol=\"griddap\",\n",
    "    response=\"opendap\",\n",
    ")\n",
    "e.dataset_id = \"jplAquariusSSS3MonthV5\"  # Aquarius Sea Surface Salinity, L3 SMI, Version 5, 1.0°, Global,"
   ]
  },
  {
   "cell_type": "markdown",
   "metadata": {},
   "source": [
    "The data can be downloaded immediately, no need to run `griddap_initialize`\n"
   ]
  },
  {
   "cell_type": "code",
   "execution_count": null,
   "metadata": {},
   "outputs": [],
   "source": [
    "ds = e.to_xarray()"
   ]
  },
  {
   "cell_type": "code",
   "execution_count": null,
   "metadata": {},
   "outputs": [],
   "source": [
    "ds"
   ]
  }
 ],
 "metadata": {
  "kernelspec": {
   "display_name": "Python 3 (ipykernel)",
   "language": "python",
   "name": "python3"
  },
  "language_info": {
   "codemirror_mode": {
    "name": "ipython",
    "version": 3
   },
   "file_extension": ".py",
   "mimetype": "text/x-python",
   "name": "python",
   "nbconvert_exporter": "python",
   "pygments_lexer": "ipython3",
   "version": "3.9.6"
  }
 },
 "nbformat": 4,
 "nbformat_minor": 1
}
